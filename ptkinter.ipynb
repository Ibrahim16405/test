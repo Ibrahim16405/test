{
 "cells": [
  {
   "cell_type": "code",
   "execution_count": 1,
   "id": "9f107f74",
   "metadata": {},
   "outputs": [
    {
     "name": "stdout",
     "output_type": "stream",
     "text": [
      "chercher avec in\n",
      "True\n",
      " chercher avec find \n",
      "11\n",
      "chercher avec index\n",
      "11\n",
      "chercher avec notre propre fonction\n",
      "11\n"
     ]
    }
   ],
   "source": [
    "############# Chercher et remplacer #################\n",
    "\n",
    "# Activité 1 - Chercher\n",
    "\n",
    "## Question 1 ##\n",
    "\n",
    "chaine = \"ETRE OU NE PAS ETRE\"\n",
    "sous_chaine = \"PAS\"\n",
    "\n",
    "def recherche_in(chaine,sous_chaine):\n",
    "    return sous_chaine in chaine\n",
    "\n",
    "# Test\n",
    "print(\"chercher avec in\")\n",
    "\n",
    "print(recherche_in(chaine,sous_chaine))\n",
    "\n",
    "\n",
    "## Question 2 ##\n",
    "\n",
    "def chercher_find(chaine,sous_chaine):\n",
    "    \n",
    "    position = chaine.find(sous_chaine)\n",
    "    return position\n",
    "\n",
    "# Test\n",
    "print(\" chercher avec find \")\n",
    "position = chercher_find(chaine,sous_chaine)\n",
    "print(position)\n",
    "\n",
    "\n",
    "## Question 3 ##\n",
    "\n",
    "def chercher_index(chaine,sous_chaine):\n",
    "    position = chaine.index(sous_chaine)\n",
    "    return position\n",
    "\n",
    "# Test\n",
    "print(\"chercher avec index\")\n",
    "position = chercher_index(chaine,sous_chaine)\n",
    "print(position)\n",
    "\n",
    "\n",
    "## Question 4 ##\n",
    "\n",
    "def chercher(chaine,sous_chaine):\n",
    "    long_chaine = len(chaine)\n",
    "    long_sous_chaine = len(sous_chaine)\n",
    "    for i in range(long_chaine-long_sous_chaine+1):\n",
    "        trouve = True\n",
    "        for j in range(long_sous_chaine):\n",
    "            if chaine[i+j] != sous_chaine[j]:\n",
    "                trouve = False\n",
    "                break\n",
    "        if trouve == True:\n",
    "            return i\n",
    "    return None\n",
    "\n",
    "# Test\n",
    "print(\"chercher avec notre propre fonction\")\n",
    "position = chercher(chaine,sous_chaine)\n",
    "print(position)\n"
   ]
  }
 ],
 "metadata": {
  "kernelspec": {
   "display_name": "Python 3 (ipykernel)",
   "language": "python",
   "name": "python3"
  },
  "language_info": {
   "codemirror_mode": {
    "name": "ipython",
    "version": 3
   },
   "file_extension": ".py",
   "mimetype": "text/x-python",
   "name": "python",
   "nbconvert_exporter": "python",
   "pygments_lexer": "ipython3",
   "version": "3.9.7"
  }
 },
 "nbformat": 4,
 "nbformat_minor": 5
}
